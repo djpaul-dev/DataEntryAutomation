{
 "cells": [
  {
   "cell_type": "code",
   "execution_count": 5,
   "metadata": {},
   "outputs": [
    {
     "name": "stdout",
     "output_type": "stream",
     "text": [
      "Doctor detected in 71 out of 100 prescriptions.\n",
      "Medications detected in 40 out of 100 prescriptions.\n"
     ]
    }
   ],
   "source": [
    "from difflib import get_close_matches\n",
    "import os, json\n",
    "import pandas as pd\n",
    "\n",
    "phyDB = pd.read_excel(\"../Physician Database 500 PRS.xlsx\")\n",
    "prodDB = pd.read_excel(\"../Product Database 500 PRS.xlsx\")\n",
    "pres_to_phyID = {}\n",
    "pres_to_medID = {}\n",
    "\n",
    "for file in os.listdir():\n",
    "    if not file.endswith(\".json\"):\n",
    "        continue\n",
    "\n",
    "    with open(file) as f:\n",
    "        data = json.load(f)\n",
    "    \n",
    "    # Getting Doctor Names\n",
    "    matches = get_close_matches(data.get(\"doctor\", \"\").upper(), phyDB[\"PHY_NM\"])\n",
    "    if matches:\n",
    "        guess = matches[0]\n",
    "        # corresponding PHY_ID\n",
    "        phy_id = phyDB[phyDB[\"PHY_NM\"] == guess][\"PHY_ID\"].values[0]\n",
    "        # print(f\"PHY_ID: {phy_id}; Guess: {guess}\")\n",
    "        pres_to_phyID[file.split(\".\")[0]] = phy_id\n",
    "\n",
    "    # Getting Medication Names\n",
    "    medications_matches = []\n",
    "    medications_match_IDs = []\n",
    "    medications = [med[\"name\"] for med in data.get(\"medication\", [])]\n",
    "    for med in medications:\n",
    "        matches = get_close_matches(med.upper(), prodDB[\"NAME\"])\n",
    "        if matches:\n",
    "            medications_matches.append(matches[0])\n",
    "            medications_match_IDs.append(prodDB[prodDB[\"NAME\"] == matches[0]][\"VC2\"].values[0])\n",
    "            pres_to_medID[file.split(\".\")[0]] = medications_match_IDs\n",
    "    # print(f\"Detected: {medications}\")\n",
    "    # print(f\"Medication Matches: {medications_matches}\")\n",
    "    # print(f\"Medication Match IDs: {medications_match_IDs}\")\n",
    "print(f\"Doctor detected in {len(pres_to_phyID)} out of {100} prescriptions.\")\n",
    "print(f\"Medications detected in {len(pres_to_medID)} out of {100} prescriptions.\")"
   ]
  },
  {
   "cell_type": "markdown",
   "metadata": {},
   "source": [
    "### Checking Doctor Name Predictions"
   ]
  },
  {
   "cell_type": "code",
   "execution_count": 6,
   "metadata": {},
   "outputs": [
    {
     "name": "stdout",
     "output_type": "stream",
     "text": [
      "TOTAL PRESCRIPTIONS: 300\n"
     ]
    }
   ],
   "source": [
    "presDB = pd.read_excel('../500 PRS + Slip Data.xlsx', sheet_name='300 PRS Data')\n",
    "presDB = presDB[[\"PRS_ID\", \"PHY_ID\", \"VC2\"]]\n",
    "\n",
    "actual_pres_to_phyID = {}\n",
    "actual_pres_to_medID = {}\n",
    "\n",
    "for presID, phyID, medID in presDB.values:\n",
    "    actual_pres_to_phyID[str(presID)] = phyID\n",
    "    actual_pres_to_medID[str(presID)] = actual_pres_to_medID.get(str(presID), []) + [medID]\n",
    "    \n",
    "\n",
    "assert len(actual_pres_to_phyID) == len(actual_pres_to_medID)\n",
    "print(f\"TOTAL PRESCRIPTIONS: {len(actual_pres_to_phyID)}\")"
   ]
  },
  {
   "cell_type": "code",
   "execution_count": 7,
   "metadata": {},
   "outputs": [
    {
     "name": "stdout",
     "output_type": "stream",
     "text": [
      "Error: PRS208C5013216 - JSR17625 != JSR33331\n",
      "Error: PRS208C5012550 - BAR35550 != BOG12278\n",
      "Error: PRS208C4023687 - RNG00957 != RNG23419\n",
      "Error: PRS208C5009028 - CTG29217 != DHA01867\n",
      "Error: PRS208C4018627 - COM00007 != DHK59212\n",
      "Error: PRS208C4002621 - RAJ08508 != RNG25655\n",
      "Error: PRS208C4026487 - DHK44896 != DHA08903\n",
      "Error: PRS208C4027163 - MMS35214 != DHA05818\n",
      "Accuracy: 63/71 doctors detected correctly!\n"
     ]
    }
   ],
   "source": [
    "# compare the two dictionaries\n",
    "score = 0\n",
    "for k, v in pres_to_phyID.items():\n",
    "    if v != actual_pres_to_phyID[k]:\n",
    "        print(f\"Error: {k} - {v} != {actual_pres_to_phyID[k]}\")\n",
    "    else:\n",
    "        score += 1\n",
    "\n",
    "print(f\"Accuracy: {score}/{len(pres_to_phyID)} doctors detected correctly!\")"
   ]
  },
  {
   "cell_type": "markdown",
   "metadata": {},
   "source": [
    "### Checking Medication Predictions"
   ]
  },
  {
   "cell_type": "code",
   "execution_count": 8,
   "metadata": {},
   "outputs": [
    {
     "name": "stdout",
     "output_type": "stream",
     "text": [
      "Of the 40 out of 100 prescriptions with medications detected:\n",
      "Average % of medications detected correctly per pres: 13.41%\n",
      "Average % of medications detected incorrectly per pres: 13.77%\n",
      "Average % of medications not detected per pres: 72.81%\n"
     ]
    }
   ],
   "source": [
    "pres_to_medStat = {}\n",
    "for pres in pres_to_medID:\n",
    "    pres_to_medStat[pres] = {\"detected_correctly\":0, \"detected_incorrectly\":0, \"not_detected\":0}\n",
    "    for med in pres_to_medID[pres]:\n",
    "        if med in actual_pres_to_medID[pres]:\n",
    "            pres_to_medStat[pres][\"detected_correctly\"] += 1\n",
    "        else:\n",
    "            pres_to_medStat[pres][\"detected_incorrectly\"] += 1\n",
    "\n",
    "    pres_to_medStat[pres][\"not_detected\"] = len(actual_pres_to_medID[pres]) - pres_to_medStat[pres][\"detected_correctly\"]\n",
    "\n",
    "avg_detected_correctly = sum([v[\"detected_correctly\"]/(v[\"detected_correctly\"] + v[\"detected_incorrectly\"] + v[\"not_detected\"]) for v in pres_to_medStat.values()]) / len(pres_to_medStat) * 100\n",
    "avg_detected_incorrectly = sum([v[\"detected_incorrectly\"]/(v[\"detected_correctly\"] + v[\"detected_incorrectly\"] + v[\"not_detected\"]) for v in pres_to_medStat.values()]) / len(pres_to_medStat) * 100\n",
    "avg_not_detected = sum([v[\"not_detected\"]/(v[\"detected_correctly\"] + v[\"detected_incorrectly\"] + v[\"not_detected\"]) for v in pres_to_medStat.values()]) / len(pres_to_medStat) * 100\n",
    "print(f\"Of the {len(pres_to_medID)} out of 100 prescriptions with medications detected:\")\n",
    "print(f\"Average % of medications detected correctly per pres: {avg_detected_correctly:.2f}%\")\n",
    "print(f\"Average % of medications detected incorrectly per pres: {avg_detected_incorrectly:.2f}%\")\n",
    "print(f\"Average % of medications not detected per pres: {avg_not_detected:.2f}%\")"
   ]
  }
 ],
 "metadata": {
  "kernelspec": {
   "display_name": "Python 3",
   "language": "python",
   "name": "python3"
  },
  "language_info": {
   "codemirror_mode": {
    "name": "ipython",
    "version": 3
   },
   "file_extension": ".py",
   "mimetype": "text/x-python",
   "name": "python",
   "nbconvert_exporter": "python",
   "pygments_lexer": "ipython3",
   "version": "3.10.12"
  }
 },
 "nbformat": 4,
 "nbformat_minor": 2
}
