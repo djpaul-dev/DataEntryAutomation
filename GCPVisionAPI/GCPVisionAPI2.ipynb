{
 "cells": [
  {
   "cell_type": "code",
   "execution_count": 1,
   "metadata": {},
   "outputs": [
    {
     "name": "stdout",
     "output_type": "stream",
     "text": [
      "Processed 2 images and saved extracted text to hehe.csv\n"
     ]
    }
   ],
   "source": [
    "import os\n",
    "import csv\n",
    "from google.cloud import vision_v1\n",
    "from google.auth import load_credentials_from_file\n",
    "\n",
    "def clean_image_name(image_name):\n",
    "    # Split the name on '-' and take the first part\n",
    "    cleaned_name = image_name.split('-')[0]\n",
    "    return cleaned_name\n",
    "\n",
    "def extract_text_from_image(image_path, client):\n",
    "    with open(image_path, 'rb') as image_file:\n",
    "        content = image_file.read()\n",
    "\n",
    "    image = vision_v1.Image(content=content)\n",
    "    response = client.text_detection(image=image)\n",
    "    texts = response.text_annotations\n",
    "\n",
    "    if response.error.message:\n",
    "        raise Exception(f'{response.error.message}')\n",
    "\n",
    "    if texts:\n",
    "        return texts[0].description\n",
    "    else:\n",
    "        return ''\n",
    "\n",
    "def process_images_and_save_to_csv(source_folder, output_csv, client):\n",
    "    # Ensure the source folder exists\n",
    "    if not os.path.exists(source_folder):\n",
    "        print(f\"The folder {source_folder} does not exist.\")\n",
    "        return\n",
    "\n",
    "    # List all files in the source folder\n",
    "    all_files = os.listdir(source_folder)\n",
    "\n",
    "    # Filter out only image files (assuming images have common extensions)\n",
    "    image_files = [file for file in all_files if file.lower().endswith(('.png', '.jpg', '.jpeg', '.gif', '.bmp', '.tiff'))]\n",
    "\n",
    "    # Process each image and extract text\n",
    "    extracted_texts = []\n",
    "    for image in image_files:\n",
    "        image_path = os.path.join(source_folder, image)\n",
    "        # Remove the extension\n",
    "        image_name = os.path.splitext(image)[0]\n",
    "        # Clean the name\n",
    "        cleaned_name = clean_image_name(image_name)\n",
    "        # Extract text from the image\n",
    "        text = extract_text_from_image(image_path, client)\n",
    "        extracted_texts.append((cleaned_name, text))\n",
    "\n",
    "    # Write the extracted texts to a CSV file\n",
    "    with open(output_csv, mode='w', newline='', encoding='utf-8') as file:\n",
    "        writer = csv.writer(file)\n",
    "        writer.writerow(['Image Name', 'Extracted Text'])  # Write the header\n",
    "        for image_name, text in extracted_texts:\n",
    "            writer.writerow([image_name, text])\n",
    "    \n",
    "    print(f\"Processed {len(extracted_texts)} images and saved extracted text to {output_csv}\")\n",
    "\n",
    "# Parameters\n",
    "source_folder = 'images'  # Replace this\n",
    "output_csv = 'hehe.csv'  # Replace this or let it stay\n",
    "service_account_key = 'myvisionproject-424702-6bdcada1c6f4.json'  # Replace service account JSON key file\n",
    "\n",
    "# Set up Vision API client\n",
    "credentials, project = load_credentials_from_file(service_account_key)\n",
    "client = vision_v1.ImageAnnotatorClient(credentials=credentials)\n",
    "\n",
    "# Process images and save to CSV\n",
    "process_images_and_save_to_csv(source_folder, output_csv, client)"
   ]
  },
  {
   "cell_type": "code",
   "execution_count": null,
   "metadata": {},
   "outputs": [],
   "source": []
  }
 ],
 "metadata": {
  "kernelspec": {
   "display_name": "venv",
   "language": "python",
   "name": "python3"
  },
  "language_info": {
   "codemirror_mode": {
    "name": "ipython",
    "version": 3
   },
   "file_extension": ".py",
   "mimetype": "text/x-python",
   "name": "python",
   "nbconvert_exporter": "python",
   "pygments_lexer": "ipython3",
   "version": "3.11.2"
  }
 },
 "nbformat": 4,
 "nbformat_minor": 2
}
